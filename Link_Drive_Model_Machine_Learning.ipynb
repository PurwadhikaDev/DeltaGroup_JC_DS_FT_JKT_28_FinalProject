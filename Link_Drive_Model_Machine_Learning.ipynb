{
 "cells": [
  {
   "cell_type": "markdown",
   "id": "b2c59fa4",
   "metadata": {},
   "source": [
    "# Link Penyimpanan Drive Model Machine Learning - Bank Deposito Marketing Campaign\n",
    "---\n",
    "## *Final Project Delta Team - JCDS2804*\n",
    "---\n",
    "Purwadhika Digital Technology School - Job Connector Data Science\n",
    "* Ikhsan Herdi Fariyanto\n",
    "* Sulaeman Nurhakim\n",
    "* Muhammad Naufal Maahir\n",
    "---\n",
    "[Link Drive](https://drive.google.com/drive/folders/1vlPMJ5gWIou7xpNFvE8xHJz6XRXlmHJw?usp=drive_link)\n",
    "---\n",
    "Dikarenakan size file model yang dibuat terlalu besar >25 mb baik sebelum maupun sesudah di compress sehingga tidak bisa di upload di github, maka disimpan via drive\n"
   ]
  }
 ],
 "metadata": {
  "language_info": {
   "name": "python"
  }
 },
 "nbformat": 4,
 "nbformat_minor": 5
}
